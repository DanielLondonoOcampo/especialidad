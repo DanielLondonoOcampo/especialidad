{
 "cells": [
  {
   "cell_type": "code",
   "execution_count": 32,
   "metadata": {},
   "outputs": [],
   "source": [
    "sintomas = {\"gripe\": [\"fiebre\", \"dolor de cabeza\", \"tos\"], \"resfriado\": [\"fiebre\", \"dolor de garganta\", \"dolor de cabeza\", \"tos\"], \"amigdalitis\": [\"dolor de garganta\"], \"migraña\": [\"dolor de cabeza\"]}\n",
    "\n",
    "class Sistema_experto:\n",
    "    def __init__(self, sintomas, consulta) -> None:\n",
    "        self.sintomas = sintomas\n",
    "        if isinstance(consulta, str):\n",
    "            self.consulta = list(consulta)\n",
    "        else:\n",
    "            self.consulta = consulta\n",
    "\n",
    "    def __str__(self) -> str:\n",
    "        diagnostico = self.diagnostico()\n",
    "        return f\"{diagnostico if diagnostico else 'No hay diagnóstico'}\"\n",
    "\n",
    "    def diagnostico(self):\n",
    "        for enfermedad, sintomas in self.sintomas.items():\n",
    "            if sintomas == self.consulta:\n",
    "                return \"El diagnóstico es: \" + enfermedad\n",
    "        return None"
   ]
  },
  {
   "cell_type": "code",
   "execution_count": 33,
   "metadata": {},
   "outputs": [
    {
     "name": "stdout",
     "output_type": "stream",
     "text": [
      "No hay diagnóstico\n"
     ]
    }
   ],
   "source": [
    "medico = Sistema_experto(sintomas, \"dolor de garganta\")\n",
    "print(medico)"
   ]
  }
 ],
 "metadata": {
  "kernelspec": {
   "display_name": "Python 3",
   "language": "python",
   "name": "python3"
  },
  "language_info": {
   "codemirror_mode": {
    "name": "ipython",
    "version": 3
   },
   "file_extension": ".py",
   "mimetype": "text/x-python",
   "name": "python",
   "nbconvert_exporter": "python",
   "pygments_lexer": "ipython3",
   "version": "3.12.2"
  }
 },
 "nbformat": 4,
 "nbformat_minor": 2
}
