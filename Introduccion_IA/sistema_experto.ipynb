{
 "cells": [
  {
   "cell_type": "code",
   "execution_count": 50,
   "metadata": {},
   "outputs": [],
   "source": [
    "sintomas = {\"gripe\": [\"fiebre\", \"dolor de cabeza\", \"tos\"], \"resfriado\": [\"fiebre\", \"dolor de garganta\", \"dolor de cabeza\", \"tos\"], \"amigdalitis\": [\"dolor de garganta\"], \"migraña\": [\"dolor de cabeza\"]}\n",
    "\n",
    "class Sistema_experto:\n",
    "    def __init__(self, sintomas, *args) -> None:\n",
    "        self.sintomas = sintomas\n",
    "        self.consulta = list(args)\n",
    "\n",
    "    def __str__(self) -> str:\n",
    "        diagnostico = self.diagnostico()\n",
    "        return f\"{diagnostico if diagnostico else 'No hay diagnóstico'}\"\n",
    "\n",
    "    def diagnostico(self):\n",
    "        for enfermedad, sintomas in self.sintomas.items():\n",
    "            if sintomas == self.consulta:\n",
    "                return \"El diagnóstico es: \" + enfermedad\n",
    "        return None"
   ]
  },
  {
   "cell_type": "code",
   "execution_count": 51,
   "metadata": {},
   "outputs": [
    {
     "name": "stdout",
     "output_type": "stream",
     "text": [
      "El diagnóstico es: gripe\n"
     ]
    }
   ],
   "source": [
    "medico = Sistema_experto(sintomas, \"fiebre\", \"dolor de cabeza\", \"tos\")\n",
    "print(medico)"
   ]
  }
 ],
 "metadata": {
  "kernelspec": {
   "display_name": "Python 3",
   "language": "python",
   "name": "python3"
  },
  "language_info": {
   "codemirror_mode": {
    "name": "ipython",
    "version": 3
   },
   "file_extension": ".py",
   "mimetype": "text/x-python",
   "name": "python",
   "nbconvert_exporter": "python",
   "pygments_lexer": "ipython3",
   "version": "3.12.2"
  }
 },
 "nbformat": 4,
 "nbformat_minor": 2
}
